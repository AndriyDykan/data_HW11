{
 "cells": [
  {
   "cell_type": "code",
   "execution_count": 1,
   "id": "57cf79bb-94f0-4d73-9e43-761a860e53f4",
   "metadata": {},
   "outputs": [],
   "source": [
    "import numpy as np\n",
    "import matplotlib.pyplot as plt\n",
    "import tensorflow as tf\n",
    "\n",
    "from tensorflow.keras.datasets import imdb\n",
    "from tensorflow.keras.preprocessing.sequence import pad_sequences"
   ]
  },
  {
   "cell_type": "code",
   "execution_count": 2,
   "id": "1543165c-c718-4a90-a511-5d3f9c0826df",
   "metadata": {},
   "outputs": [],
   "source": [
    "(X_train, y_train), (X_test, y_test) = imdb.load_data(num_words = 30000)\n",
    "\n",
    "X_train = pad_sequences(X_train, maxlen = 100)\n",
    "X_test = pad_sequences(X_test, maxlen=100)"
   ]
  },
  {
   "cell_type": "code",
   "execution_count": 3,
   "id": "a80d5367-fd78-4743-8616-d48f85f768d7",
   "metadata": {},
   "outputs": [],
   "source": [
    "vocab_size = 30000\n",
    "embed_size = 128"
   ]
  },
  {
   "cell_type": "code",
   "execution_count": 4,
   "id": "59f6d1bb-2908-44b1-a8e1-f2b48bdb95c2",
   "metadata": {},
   "outputs": [],
   "source": [
    "from tensorflow.keras import Sequential\n",
    "from tensorflow.keras.layers import LSTM, Dropout, Dense, Embedding\n",
    "from tensorflow.keras.regularizers import l2\n",
    "\n",
    "\n",
    "model = Sequential()\n",
    "model.add(Embedding(vocab_size, embed_size, input_shape=(X_train.shape[1],), embeddings_regularizer=l2(0.001)))\n",
    "model.add(LSTM(units=60, activation='tanh'))\n",
    "model.add(Dropout(0.2))\n",
    "model.add(Dense(units=1, activation='sigmoid', kernel_regularizer=l2(0.001)))\n",
    "\n",
    "model.compile(optimizer='adam', loss='binary_crossentropy', metrics=['accuracy'])\n"
   ]
  },
  {
   "cell_type": "code",
   "execution_count": 29,
   "id": "4dee3a72-3458-467f-9042-0db9a44bbd3d",
   "metadata": {},
   "outputs": [
    {
     "name": "stdout",
     "output_type": "stream",
     "text": [
      "Epoch 1/5\n",
      "196/196 [==============================] - 48s 248ms/step - loss: 0.3914 - accuracy: 0.8884 - val_loss: 0.4714 - val_accuracy: 0.8457\n",
      "Epoch 2/5\n",
      "196/196 [==============================] - 48s 247ms/step - loss: 0.3575 - accuracy: 0.9036 - val_loss: 0.4678 - val_accuracy: 0.8442\n",
      "Epoch 3/5\n",
      "196/196 [==============================] - 48s 245ms/step - loss: 0.3328 - accuracy: 0.9154 - val_loss: 0.5535 - val_accuracy: 0.8290\n",
      "Epoch 4/5\n",
      "196/196 [==============================] - 47s 241ms/step - loss: 0.3055 - accuracy: 0.9286 - val_loss: 0.5035 - val_accuracy: 0.8446\n",
      "Epoch 5/5\n",
      "196/196 [==============================] - 47s 240ms/step - loss: 0.2796 - accuracy: 0.9391 - val_loss: 0.5928 - val_accuracy: 0.8278\n"
     ]
    }
   ],
   "source": [
    "history = model.fit(X_train, y_train, epochs=5, batch_size=128, validation_data=(X_test, y_test))"
   ]
  },
  {
   "cell_type": "code",
   "execution_count": 5,
   "id": "f5d7a7fd-b832-4414-91df-813c5a2ccc10",
   "metadata": {},
   "outputs": [
    {
     "name": "stdout",
     "output_type": "stream",
     "text": [
      "Epoch 1/5\n",
      "196/196 [==============================] - 18s 85ms/step - loss: 0.9141 - accuracy: 0.7495 - val_loss: 0.5437 - val_accuracy: 0.8324\n",
      "Epoch 2/5\n",
      "196/196 [==============================] - 17s 84ms/step - loss: 0.5017 - accuracy: 0.8561 - val_loss: 0.5410 - val_accuracy: 0.8366\n",
      "Epoch 3/5\n",
      "196/196 [==============================] - 16s 83ms/step - loss: 0.4718 - accuracy: 0.8798 - val_loss: 0.5508 - val_accuracy: 0.8365\n",
      "Epoch 4/5\n",
      "196/196 [==============================] - 16s 83ms/step - loss: 0.4556 - accuracy: 0.8966 - val_loss: 0.5986 - val_accuracy: 0.8310\n",
      "Epoch 5/5\n",
      "196/196 [==============================] - 16s 83ms/step - loss: 0.4107 - accuracy: 0.9207 - val_loss: 0.6269 - val_accuracy: 0.8280\n"
     ]
    }
   ],
   "source": [
    "from tensorflow.keras.layers import SimpleRNN\n",
    "\n",
    "model2 = Sequential()\n",
    "model2.add(Embedding(vocab_size, embed_size, input_shape=(X_train.shape[1],), embeddings_regularizer=l2(0.001)))\n",
    "model2.add(SimpleRNN(units=60, activation='tanh'))\n",
    "model2.add(Dropout(0.2))\n",
    "model2.add(Dense(units=1, activation='sigmoid', kernel_regularizer=l2(0.001)))\n",
    "\n",
    "model2.compile(optimizer='adam', loss='binary_crossentropy', metrics=['accuracy'])\n",
    "\n",
    "history2 = model2.fit(X_train, y_train, epochs=5, batch_size=128, validation_data=(X_test, y_test))"
   ]
  },
  {
   "cell_type": "code",
   "execution_count": 35,
   "id": "da8d8c9e-08ee-4c5f-987a-747b0d8c99d5",
   "metadata": {},
   "outputs": [
    {
     "name": "stdout",
     "output_type": "stream",
     "text": [
      "Epoch 1/5\n",
      "196/196 [==============================] - 32s 159ms/step - loss: 1.7865 - acc: 0.6893 - val_loss: 0.7125 - val_acc: 0.8322\n",
      "Epoch 2/5\n",
      "196/196 [==============================] - 33s 167ms/step - loss: 0.5378 - acc: 0.8395 - val_loss: 0.5747 - val_acc: 0.7846\n",
      "Epoch 3/5\n",
      "196/196 [==============================] - 33s 170ms/step - loss: 0.4063 - acc: 0.8588 - val_loss: 0.4522 - val_acc: 0.8234\n",
      "Epoch 4/5\n",
      "196/196 [==============================] - 32s 163ms/step - loss: 0.3776 - acc: 0.8671 - val_loss: 0.5018 - val_acc: 0.8228\n",
      "Epoch 5/5\n",
      "196/196 [==============================] - 33s 166ms/step - loss: 0.3635 - acc: 0.8721 - val_loss: 0.4103 - val_acc: 0.8492\n"
     ]
    }
   ],
   "source": [
    "from tensorflow.keras.layers import GRU\n",
    "\n",
    "model3 = Sequential()\n",
    "model3.add(Embedding(vocab_size, embed_size, input_shape=(X_train.shape[1],), embeddings_regularizer=l2(0.001)))\n",
    "model3.add(GRU(units=60, activation='tanh'))\n",
    "model3.add(Dropout(0.2))\n",
    "model3.add(Dense(units=1, activation='sigmoid', kernel_regularizer=l2(0.001)))\n",
    "\n",
    "model3.compile(optimizer='adam', loss='binary_crossentropy', metrics=['acc'])\n",
    "\n",
    "history3 = model3.fit(X_train, y_train, epochs=5, batch_size=128, validation_data=(X_test, y_test))"
   ]
  },
  {
   "cell_type": "code",
   "execution_count": 41,
   "id": "c992315f-aadd-4fac-b02d-48b9c5ae6524",
   "metadata": {},
   "outputs": [
    {
     "name": "stdout",
     "output_type": "stream",
     "text": [
      "Epoch 1/5\n",
      "196/196 [==============================] - 170s 843ms/step - loss: 0.7536 - accuracy: 0.7706 - val_loss: 0.4685 - val_accuracy: 0.8390\n",
      "Epoch 2/5\n",
      "196/196 [==============================] - 154s 785ms/step - loss: 0.4281 - accuracy: 0.8636 - val_loss: 0.4397 - val_accuracy: 0.8512\n",
      "Epoch 3/5\n",
      "196/196 [==============================] - 157s 800ms/step - loss: 0.3877 - accuracy: 0.8871 - val_loss: 0.4579 - val_accuracy: 0.8486\n",
      "Epoch 4/5\n",
      "196/196 [==============================] - 161s 821ms/step - loss: 0.3518 - accuracy: 0.9068 - val_loss: 0.4904 - val_accuracy: 0.8437\n",
      "Epoch 5/5\n",
      "196/196 [==============================] - 163s 830ms/step - loss: 0.3119 - accuracy: 0.9258 - val_loss: 0.5313 - val_accuracy: 0.8404\n"
     ]
    }
   ],
   "source": [
    "from tensorflow.keras.layers import Bidirectional\n",
    "\n",
    "model4 = Sequential()\n",
    "model4.add(Embedding(vocab_size, embed_size, input_shape=(X_train.shape[1],), embeddings_regularizer=l2(0.001)))\n",
    "model4.add(Bidirectional(LSTM(units=60, activation='tanh', return_sequences=True)))\n",
    "model4.add(Bidirectional(LSTM(units=60, activation='tanh')))\n",
    "model4.add(Dropout(0.2))\n",
    "model4.add(Dense(units=1, activation='sigmoid', kernel_regularizer=l2(0.001)))\n",
    "\n",
    "model4.compile(optimizer='adam', loss='binary_crossentropy', metrics=['accuracy'])\n",
    "\n",
    "history4 = model4.fit(X_train, y_train, epochs=5, batch_size=128, validation_data=(X_test, y_test))"
   ]
  },
  {
   "cell_type": "raw",
   "id": "70336d7f-4f83-4636-a69f-27b12f0931f6",
   "metadata": {},
   "source": [
    "Моделі з використанням LSTM та Bidirectional LSTM виявилися більш ефективними у порівнянні з моделями, що використовують GRU та SimpleRNN. LSTM та Bidirectional LSTM здатні краще моделювати довгострокові залежності у послідовностях. Незважаючи на це, моделі з GRU та SimpleRNN можуть бути прийнятними у випадках, коли потрібно меншу обчислювальну складність чи коли обсяг даних невеликий, але вони частіше схильні до перенавчання."
   ]
  }
 ],
 "metadata": {
  "kernelspec": {
   "display_name": "Python 3 (ipykernel)",
   "language": "python",
   "name": "python3"
  },
  "language_info": {
   "codemirror_mode": {
    "name": "ipython",
    "version": 3
   },
   "file_extension": ".py",
   "mimetype": "text/x-python",
   "name": "python",
   "nbconvert_exporter": "python",
   "pygments_lexer": "ipython3",
   "version": "3.11.8"
  }
 },
 "nbformat": 4,
 "nbformat_minor": 5
}
